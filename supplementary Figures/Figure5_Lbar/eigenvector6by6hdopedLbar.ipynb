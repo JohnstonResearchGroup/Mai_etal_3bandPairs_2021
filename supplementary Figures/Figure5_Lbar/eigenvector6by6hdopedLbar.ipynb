{
 "cells": [
  {
   "cell_type": "code",
   "execution_count": 2,
   "metadata": {},
   "outputs": [],
   "source": [
    "import numpy as np\n",
    "import math\n",
    "from numpy import *\n",
    "import matplotlib.pyplot as mpl\n",
    "import h5py\n",
    "import sys\n",
    "import os\n",
    "from matplotlib.pyplot import *\n",
    "import matplotlib as mpll\n",
    "mpl.style.use([\"ggplot\"])"
   ]
  },
  {
   "cell_type": "code",
   "execution_count": 3,
   "metadata": {},
   "outputs": [],
   "source": [
    "plotrspacedLbar=array([[ 5.00000000e-01,  5.00000000e-01,  2.21637451e-03],\n",
    "       [ 5.00000000e-01,  1.50000000e+00,  1.66819755e-03],\n",
    "       [ 5.00000000e-01,  2.50000000e+00,  9.76460717e-04],\n",
    "       [ 5.00000000e-01,  3.50000000e+00, -9.97348388e-04],\n",
    "       [ 5.00000000e-01, -1.50000000e+00, -1.67639371e-03],\n",
    "       [ 5.00000000e-01, -5.00000000e-01, -2.22839086e-03],\n",
    "       [ 1.50000000e+00,  5.00000000e-01,  1.67519407e-03],\n",
    "       [ 1.50000000e+00,  1.50000000e+00, -1.93824905e-03],\n",
    "       [ 1.50000000e+00,  2.50000000e+00, -6.94211297e-04],\n",
    "       [ 1.50000000e+00,  3.50000000e+00,  6.68697919e-04],\n",
    "       [ 1.50000000e+00, -1.50000000e+00,  1.94264794e-03],\n",
    "       [ 1.50000000e+00, -5.00000000e-01, -1.66150702e-03],\n",
    "       [ 2.50000000e+00,  5.00000000e-01,  9.46802474e-04],\n",
    "       [ 2.50000000e+00,  1.50000000e+00, -6.76901735e-04],\n",
    "       [ 2.50000000e+00,  2.50000000e+00, -2.54275886e-04],\n",
    "       [ 2.50000000e+00,  3.50000000e+00,  2.84449534e-04],\n",
    "       [ 2.50000000e+00, -1.50000000e+00,  6.83964165e-04],\n",
    "       [ 2.50000000e+00, -5.00000000e-01, -9.81474987e-04],\n",
    "       [ 3.50000000e+00,  5.00000000e-01, -9.88290603e-04],\n",
    "       [ 3.50000000e+00,  1.50000000e+00,  6.75340821e-04],\n",
    "       [ 3.50000000e+00,  2.50000000e+00,  2.89724978e-04],\n",
    "       [ 3.50000000e+00,  3.50000000e+00, -2.53922325e-04],\n",
    "       [ 3.50000000e+00, -1.50000000e+00, -7.02293896e-04],\n",
    "       [ 3.50000000e+00, -5.00000000e-01,  9.66443400e-04],\n",
    "       [-1.50000000e+00,  5.00000000e-01, -1.64481190e-03],\n",
    "       [-1.50000000e+00,  1.50000000e+00,  1.91382568e-03],\n",
    "       [-1.50000000e+00,  2.50000000e+00,  6.50190617e-04],\n",
    "       [-1.50000000e+00,  3.50000000e+00, -7.10198995e-04],\n",
    "       [-1.50000000e+00, -1.50000000e+00, -1.96478349e-03],\n",
    "       [-1.50000000e+00, -5.00000000e-01,  1.69186644e-03],\n",
    "       [-5.00000000e-01,  5.00000000e-01, -2.20982978e-03],\n",
    "       [-5.00000000e-01,  1.50000000e+00, -1.67878489e-03],\n",
    "       [-5.00000000e-01,  2.50000000e+00, -9.56164306e-04],\n",
    "       [-5.00000000e-01,  3.50000000e+00,  9.70767379e-04],\n",
    "       [-5.00000000e-01, -1.50000000e+00,  1.65469350e-03],\n",
    "       [-5.00000000e-01, -5.00000000e-01,  2.22113040e-03]])\n",
    "\n",
    "plotrspaceLLbar=array([[ 5.00000000e-01,  5.00000000e-01,  3.45055973e-03],\n",
    "       [ 5.00000000e-01,  1.50000000e+00,  2.17347226e-03],\n",
    "       [ 5.00000000e-01,  2.50000000e+00,  1.65123996e-03],\n",
    "       [ 5.00000000e-01,  3.50000000e+00, -1.64469821e-03],\n",
    "       [ 5.00000000e-01, -1.50000000e+00, -2.18782198e-03],\n",
    "       [ 5.00000000e-01, -5.00000000e-01, -3.49599404e-03],\n",
    "       [ 1.50000000e+00,  5.00000000e-01,  2.21841880e-03],\n",
    "       [ 1.50000000e+00,  1.50000000e+00, -3.24737759e-03],\n",
    "       [ 1.50000000e+00,  2.50000000e+00, -5.54563932e-04],\n",
    "       [ 1.50000000e+00,  3.50000000e+00,  4.77970255e-04],\n",
    "       [ 1.50000000e+00, -1.50000000e+00,  3.25470331e-03],\n",
    "       [ 1.50000000e+00, -5.00000000e-01, -2.16149356e-03],\n",
    "       [ 2.50000000e+00,  5.00000000e-01,  1.60343613e-03],\n",
    "       [ 2.50000000e+00,  1.50000000e+00, -5.31607907e-04],\n",
    "       [ 2.50000000e+00,  2.50000000e+00, -1.35886121e-04],\n",
    "       [ 2.50000000e+00,  3.50000000e+00,  1.49844322e-04],\n",
    "       [ 2.50000000e+00, -1.50000000e+00,  5.18965403e-04],\n",
    "       [ 2.50000000e+00, -5.00000000e-01, -1.66227986e-03],\n",
    "       [ 3.50000000e+00,  5.00000000e-01, -1.66783690e-03],\n",
    "       [ 3.50000000e+00,  1.50000000e+00,  5.13479048e-04],\n",
    "       [ 3.50000000e+00,  2.50000000e+00,  1.50225623e-04],\n",
    "       [ 3.50000000e+00,  3.50000000e+00, -1.39780767e-04],\n",
    "       [ 3.50000000e+00, -1.50000000e+00, -5.29530107e-04],\n",
    "       [ 3.50000000e+00, -5.00000000e-01,  1.61173050e-03],\n",
    "       [-1.50000000e+00,  5.00000000e-01, -2.16771152e-03],\n",
    "       [-1.50000000e+00,  1.50000000e+00,  3.23788161e-03],\n",
    "       [-1.50000000e+00,  2.50000000e+00,  4.77674863e-04],\n",
    "       [-1.50000000e+00,  3.50000000e+00, -5.66493152e-04],\n",
    "       [-1.50000000e+00, -1.50000000e+00, -3.25519925e-03],\n",
    "       [-1.50000000e+00, -5.00000000e-01,  2.22869163e-03],\n",
    "       [-5.00000000e-01,  5.00000000e-01, -3.49231681e-03],\n",
    "       [-5.00000000e-01,  1.50000000e+00, -2.18398123e-03],\n",
    "       [-5.00000000e-01,  2.50000000e+00, -1.63419469e-03],\n",
    "       [-5.00000000e-01,  3.50000000e+00,  1.65193264e-03],\n",
    "       [-5.00000000e-01, -1.50000000e+00,  2.17869464e-03],\n",
    "       [-5.00000000e-01, -5.00000000e-01,  3.45883446e-03]])\n",
    "\n",
    "\n",
    "plotrspaceLbarLbar=array([[ 0.00000000e+00,  0.00000000e+00, -1.25430824e-05],\n",
    "       [ 0.00000000e+00,  1.00000000e+00, -4.13124877e-03],\n",
    "       [ 0.00000000e+00,  2.00000000e+00, -9.47829908e-04],\n",
    "       [ 0.00000000e+00,  3.00000000e+00, -8.88856969e-04],\n",
    "       [ 0.00000000e+00, -2.00000000e+00, -9.47829908e-04],\n",
    "       [ 0.00000000e+00, -1.00000000e+00, -4.13124877e-03],\n",
    "       [ 1.00000000e+00,  0.00000000e+00,  4.12071365e-03],\n",
    "       [ 1.00000000e+00,  1.00000000e+00,  1.33765894e-05],\n",
    "       [ 1.00000000e+00,  2.00000000e+00,  1.19815100e-03],\n",
    "       [ 1.00000000e+00,  3.00000000e+00,  5.80965578e-04],\n",
    "       [ 1.00000000e+00, -2.00000000e+00,  1.17952359e-03],\n",
    "       [ 1.00000000e+00, -1.00000000e+00, -4.53991313e-06],\n",
    "       [ 2.00000000e+00,  0.00000000e+00,  9.51665898e-04],\n",
    "       [ 2.00000000e+00,  1.00000000e+00, -1.17544371e-03],\n",
    "       [ 2.00000000e+00,  2.00000000e+00,  2.81969672e-06],\n",
    "       [ 2.00000000e+00,  3.00000000e+00, -1.20890934e-04],\n",
    "       [ 2.00000000e+00, -2.00000000e+00,  2.21913757e-05],\n",
    "       [ 2.00000000e+00, -1.00000000e+00, -1.15745746e-03],\n",
    "       [ 3.00000000e+00,  0.00000000e+00,  8.94207427e-04],\n",
    "       [ 3.00000000e+00,  1.00000000e+00, -5.60340927e-04],\n",
    "       [ 3.00000000e+00,  2.00000000e+00,  1.45689195e-04],\n",
    "       [ 3.00000000e+00,  3.00000000e+00,  1.36971463e-05],\n",
    "       [ 3.00000000e+00, -2.00000000e+00,  1.45689195e-04],\n",
    "       [ 3.00000000e+00, -1.00000000e+00, -5.60340927e-04],\n",
    "       [-2.00000000e+00,  0.00000000e+00,  9.51665898e-04],\n",
    "       [-2.00000000e+00,  1.00000000e+00, -1.15745746e-03],\n",
    "       [-2.00000000e+00,  2.00000000e+00,  2.21913757e-05],\n",
    "       [-2.00000000e+00,  3.00000000e+00, -1.20890934e-04],\n",
    "       [-2.00000000e+00, -2.00000000e+00,  2.81969672e-06],\n",
    "       [-2.00000000e+00, -1.00000000e+00, -1.17544371e-03],\n",
    "       [-1.00000000e+00,  0.00000000e+00,  4.12071365e-03],\n",
    "       [-1.00000000e+00,  1.00000000e+00, -4.53991313e-06],\n",
    "       [-1.00000000e+00,  2.00000000e+00,  1.17952359e-03],\n",
    "       [-1.00000000e+00,  3.00000000e+00,  5.80965578e-04],\n",
    "       [-1.00000000e+00, -2.00000000e+00,  1.19815100e-03],\n",
    "       [-1.00000000e+00, -1.00000000e+00,  1.33765894e-05]])\n",
    "\n",
    "nOrb=3\n",
    "Nc=36"
   ]
  },
  {
   "cell_type": "code",
   "execution_count": null,
   "metadata": {},
   "outputs": [],
   "source": []
  },
  {
   "cell_type": "code",
   "execution_count": null,
   "metadata": {},
   "outputs": [],
   "source": []
  },
  {
   "cell_type": "code",
   "execution_count": 8,
   "metadata": {},
   "outputs": [
    {
     "data": {
      "text/plain": [
       "([<matplotlib.axis.YTick at 0x7f988c6e3128>,\n",
       "  <matplotlib.axis.YTick at 0x7f988c6daa20>,\n",
       "  <matplotlib.axis.YTick at 0x7f988c529a20>,\n",
       "  <matplotlib.axis.YTick at 0x7f988c715940>,\n",
       "  <matplotlib.axis.YTick at 0x7f988c715e80>,\n",
       "  <matplotlib.axis.YTick at 0x7f988c71f400>],\n",
       " <a list of 6 Text yticklabel objects>)"
      ]
     },
     "execution_count": 8,
     "metadata": {},
     "output_type": "execute_result"
    },
    {
     "data": {
      "image/png": "[encoded data removed]",
      "text/plain": [
       "<Figure size 432x432 with 1 Axes>"
      ]
     },
     "metadata": {
      "needs_background": "light"
     },
     "output_type": "display_data"
    }
   ],
   "source": [
    "prop_cycle = rcParams['axes.prop_cycle']\n",
    "colors = prop_cycle.by_key()['color']\n",
    "colVec = Nc*[colors[0]]\n",
    "for ic in range(Nc):\n",
    "    if real(plotrspacedLbar[ic,2])*10 < 0.0: colVec[ic] = colors[1]\n",
    "fig, ax = mpl.subplots(figsize=(6,6))\n",
    "ax.scatter(plotrspacedLbar[:,0], plotrspacedLbar[:,1], s=(abs(real(plotrspacedLbar[:,2])))*4000, marker='o',c=colVec)\n",
    "ax.scatter(0, 0, s=80, facecolors='none', edgecolors='k')\n",
    "#ax.scatter(0, 0, 50, marker='o',c=colors[4])\n",
    "#ax.scatter(plotrspace[:,0], plotrspace[:,1], s=-plotrspace[:,2]*5000, marker='o',c='b')\n",
    "ax.set(aspect=1)\n",
    "mpl.xlabel('x',size=18)\n",
    "mpl.ylabel('y',size=18)\n",
    "ax.set_xlim(min(plotrspacedLbar[:,0])-0.3,max(plotrspacedLbar[:,0]+0.3)); ax.set_ylim(min(plotrspacedLbar[:,1])-0.3,max(plotrspacedLbar[:,1]+0.3));\n",
    "mpl.xticks(np.arange(min(plotrspacedLbar[:,0]-0.5), max(plotrspacedLbar[:,0]+0.5), 1),size=18)\n",
    "mpl.yticks(np.arange(min(plotrspacedLbar[:,1]-0.5), max(plotrspacedLbar[:,1]+0.5), 1),size=18)\n",
    "#mpl.show()\n",
    "#mpl.savefig('Curspace6by6b10n115dlbar.pdf')"
   ]
  },
  {
   "cell_type": "code",
   "execution_count": 9,
   "metadata": {},
   "outputs": [
    {
     "data": {
      "text/plain": [
       "([<matplotlib.axis.YTick at 0x7f988c744908>,\n",
       "  <matplotlib.axis.YTick at 0x7f988c744278>,\n",
       "  <matplotlib.axis.YTick at 0x7f988c73ae48>,\n",
       "  <matplotlib.axis.YTick at 0x7f988c783208>,\n",
       "  <matplotlib.axis.YTick at 0x7f988c783748>,\n",
       "  <matplotlib.axis.YTick at 0x7f988c783c88>],\n",
       " <a list of 6 Text yticklabel objects>)"
      ]
     },
     "execution_count": 9,
     "metadata": {},
     "output_type": "execute_result"
    },
    {
     "data": {
      "image/png": "[encoded data removed]",
      "text/plain": [
       "<Figure size 432x432 with 1 Axes>"
      ]
     },
     "metadata": {
      "needs_background": "light"
     },
     "output_type": "display_data"
    }
   ],
   "source": [
    "prop_cycle = rcParams['axes.prop_cycle']\n",
    "colors = prop_cycle.by_key()['color']\n",
    "colVec = Nc*[colors[0]]\n",
    "for ic in range(Nc):\n",
    "    if real(plotrspaceLLbar[ic,2])*10 < 0.0: colVec[ic] = colors[1]\n",
    "fig, ax = mpl.subplots(figsize=(6,6))\n",
    "ax.scatter(plotrspaceLLbar[:,0], plotrspaceLLbar[:,1], s=(abs(real(plotrspaceLLbar[:,2])))*4000, marker='o',c=colVec)\n",
    "ax.scatter(0, 0, s=80, facecolors='none', edgecolors='k')\n",
    "#ax.scatter(0, 0, 50, marker='o',c=colors[4])\n",
    "#ax.scatter(plotrspace[:,0], plotrspace[:,1], s=-plotrspace[:,2]*5000, marker='o',c='b')\n",
    "ax.set(aspect=1)\n",
    "mpl.xlabel('x',size=18)\n",
    "mpl.ylabel('y',size=18)\n",
    "ax.set_xlim(min(plotrspaceLLbar[:,0])-0.3,max(plotrspaceLLbar[:,0]+0.3)); ax.set_ylim(min(plotrspaceLLbar[:,1])-0.3,max(plotrspaceLLbar[:,1]+0.3));\n",
    "mpl.xticks(np.arange(min(plotrspaceLLbar[:,0]-0.5), max(plotrspaceLLbar[:,0]+0.5), 1),size=18)\n",
    "mpl.yticks(np.arange(min(plotrspaceLLbar[:,1]-0.5), max(plotrspaceLLbar[:,1]+0.5), 1),size=18)\n",
    "#mpl.show()\n",
    "#mpl.savefig('Curspace6by6b10n115dlbar.pdf')"
   ]
  },
  {
   "cell_type": "code",
   "execution_count": 13,
   "metadata": {},
   "outputs": [
    {
     "data": {
      "text/plain": [
       "([<matplotlib.axis.YTick at 0x7f988d3535f8>,\n",
       "  <matplotlib.axis.YTick at 0x7f988d34bf28>,\n",
       "  <matplotlib.axis.YTick at 0x7f988d27f630>,\n",
       "  <matplotlib.axis.YTick at 0x7f988d376ef0>,\n",
       "  <matplotlib.axis.YTick at 0x7f988d37c470>,\n",
       "  <matplotlib.axis.YTick at 0x7f988d37c9b0>],\n",
       " <a list of 6 Text yticklabel objects>)"
      ]
     },
     "execution_count": 13,
     "metadata": {},
     "output_type": "execute_result"
    },
    {
     "data": {
      "image/png": "[encoded data removed]",
      "text/plain": [
       "<Figure size 432x432 with 1 Axes>"
      ]
     },
     "metadata": {
      "needs_background": "light"
     },
     "output_type": "display_data"
    }
   ],
   "source": [
    "prop_cycle = rcParams['axes.prop_cycle']\n",
    "colors = prop_cycle.by_key()['color']\n",
    "colVec = Nc*[colors[0]]\n",
    "for ic in range(Nc):\n",
    "    if real(plotrspaceLbarLbar[ic,2])*10 < 0.0: colVec[ic] = colors[1]\n",
    "fig, ax = mpl.subplots(figsize=(6,6))\n",
    "ax.scatter(plotrspaceLbarLbar[:,0], plotrspaceLbarLbar[:,1], s=(abs(real(plotrspaceLbarLbar[:,2])))*4000, marker='o',c=colVec)\n",
    "ax.scatter(0, 0, s=80, facecolors='none', edgecolors='k')\n",
    "#ax.scatter(0, 0, 50, marker='o',c=colors[4])\n",
    "#ax.scatter(plotrspace[:,0], plotrspace[:,1], s=-plotrspace[:,2]*5000, marker='o',c='b')\n",
    "ax.set(aspect=1)\n",
    "mpl.xlabel('x',size=18)\n",
    "mpl.ylabel('y',size=18)\n",
    "ax.set_xlim(min(plotrspaceLbarLbar[:,0])-0.3,max(plotrspaceLbarLbar[:,0]+0.3)); ax.set_ylim(min(plotrspaceLbarLbar[:,1])-0.3,max(plotrspaceLbarLbar[:,1]+0.3));\n",
    "mpl.xticks(np.arange(min(plotrspaceLbarLbar[:,0]), max(plotrspaceLbarLbar[:,0]+0.1), 1),size=18)\n",
    "mpl.yticks(np.arange(min(plotrspaceLbarLbar[:,1]), max(plotrspaceLbarLbar[:,1]+0.1), 1),size=18)\n",
    "#mpl.show()\n",
    "#mpl.savefig('Curspace6by6b10n115dlbar.pdf')"
   ]
  },
  {
   "cell_type": "code",
   "execution_count": null,
   "metadata": {},
   "outputs": [],
   "source": []
  },
  {
   "cell_type": "code",
   "execution_count": null,
   "metadata": {},
   "outputs": [],
   "source": []
  },
  {
   "cell_type": "code",
   "execution_count": null,
   "metadata": {},
   "outputs": [],
   "source": []
  },
  {
   "cell_type": "code",
   "execution_count": null,
   "metadata": {},
   "outputs": [],
   "source": []
  }
 ],
 "metadata": {
  "kernelspec": {
   "display_name": "Python 3",
   "language": "python",
   "name": "python3"
  },
  "language_info": {
   "codemirror_mode": {
    "name": "ipython",
    "version": 3
   },
   "file_extension": ".py",
   "mimetype": "text/x-python",
   "name": "python",
   "nbconvert_exporter": "python",
   "pygments_lexer": "ipython3",
   "version": "3.7.3"
  }
 },
 "nbformat": 4,
 "nbformat_minor": 2
}
