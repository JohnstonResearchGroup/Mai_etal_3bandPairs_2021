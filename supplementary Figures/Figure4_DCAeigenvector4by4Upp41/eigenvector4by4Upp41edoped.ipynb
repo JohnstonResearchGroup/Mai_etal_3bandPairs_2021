{
 "cells": [
  {
   "cell_type": "code",
   "execution_count": 1,
   "metadata": {},
   "outputs": [],
   "source": [
    "import numpy as np\n",
    "import math\n",
    "from numpy import *\n",
    "import matplotlib.pyplot as mpl\n",
    "import h5py\n",
    "import sys\n",
    "import os\n",
    "from matplotlib.pyplot import *\n",
    "import matplotlib as mpll\n",
    "mpl.style.use([\"ggplot\"])"
   ]
  },
  {
   "cell_type": "code",
   "execution_count": 2,
   "metadata": {},
   "outputs": [],
   "source": [
    "plotrspaceCu=array([[ 0.00000000e+00,  0.00000000e+00,  5.19708543e-05],\n",
    "       [ 5.00000000e-01,  0.00000000e+00, -2.29491672e-02],\n",
    "       [ 0.00000000e+00,  5.00000000e-01, -2.27343001e-02],\n",
    "       [ 0.00000000e+00,  1.00000000e+00,  2.45373390e-01],\n",
    "       [ 5.00000000e-01,  1.00000000e+00, -3.94760240e-02],\n",
    "       [ 0.00000000e+00,  1.50000000e+00,  4.27335611e-02],\n",
    "       [ 0.00000000e+00,  2.00000000e+00,  5.41258640e-02],\n",
    "       [ 5.00000000e-01,  2.00000000e+00, -9.85661940e-03],\n",
    "       [ 0.00000000e+00,  2.50000000e+00, -4.30685178e-02],\n",
    "       [ 0.00000000e+00, -1.00000000e+00,  2.45373390e-01],\n",
    "       [ 5.00000000e-01, -1.00000000e+00, -3.97902133e-02],\n",
    "       [ 0.00000000e+00, -5.00000000e-01,  1.97599455e-02],\n",
    "       [ 1.00000000e+00,  0.00000000e+00, -2.45681149e-01],\n",
    "       [ 1.50000000e+00,  0.00000000e+00,  4.39679744e-02],\n",
    "       [ 1.00000000e+00,  5.00000000e-01, -3.96331187e-02],\n",
    "       [ 1.00000000e+00,  1.00000000e+00, -4.95937791e-18],\n",
    "       [ 1.50000000e+00,  1.00000000e+00,  6.56456557e-03],\n",
    "       [ 1.00000000e+00,  1.50000000e+00,  6.64711664e-03],\n",
    "       [ 1.00000000e+00,  2.00000000e+00, -4.42066788e-02],\n",
    "       [ 1.50000000e+00,  2.00000000e+00,  4.87137807e-03],\n",
    "       [ 1.00000000e+00,  2.50000000e+00, -8.53882909e-03],\n",
    "       [ 1.00000000e+00, -1.00000000e+00, -5.56500646e-19],\n",
    "       [ 1.50000000e+00, -1.00000000e+00,  6.72966771e-03],\n",
    "       [ 1.00000000e+00, -5.00000000e-01,  4.06701418e-02],\n",
    "       [ 2.00000000e+00,  0.00000000e+00, -5.41733999e-02],\n",
    "       [ 2.50000000e+00,  0.00000000e+00, -4.44777304e-02],\n",
    "       [ 2.00000000e+00,  5.00000000e-01, -1.00714865e-02],\n",
    "       [ 2.00000000e+00,  1.00000000e+00,  4.45144375e-02],\n",
    "       [ 2.50000000e+00,  1.00000000e+00, -8.71730844e-03],\n",
    "       [ 2.00000000e+00,  1.50000000e+00,  6.10579134e-03],\n",
    "       [ 2.00000000e+00,  2.00000000e+00, -4.43495492e-06],\n",
    "       [ 2.50000000e+00,  2.00000000e+00, -8.39448135e-03],\n",
    "       [ 2.00000000e+00,  2.50000000e+00, -9.80369400e-03],\n",
    "       [ 2.00000000e+00, -1.00000000e+00,  4.45144375e-02],\n",
    "       [ 2.50000000e+00, -1.00000000e+00, -8.36034973e-03],\n",
    "       [ 2.00000000e+00, -5.00000000e-01,  1.60448045e-02],\n",
    "       [-1.00000000e+00,  0.00000000e+00, -2.45681149e-01],\n",
    "       [-5.00000000e-01,  0.00000000e+00,  1.98560049e-02],\n",
    "       [-1.00000000e+00,  5.00000000e-01, -3.96331187e-02],\n",
    "       [-1.00000000e+00,  1.00000000e+00, -7.19893302e-18],\n",
    "       [-5.00000000e-01,  1.00000000e+00,  4.05668544e-02],\n",
    "       [-1.00000000e+00,  1.50000000e+00,  6.64711664e-03],\n",
    "       [-1.00000000e+00,  2.00000000e+00, -4.42066788e-02],\n",
    "       [-5.00000000e-01,  2.00000000e+00,  1.59487451e-02],\n",
    "       [-1.00000000e+00,  2.50000000e+00, -8.53882909e-03],\n",
    "       [-1.00000000e+00, -1.00000000e+00,  2.11250017e-18],\n",
    "       [-5.00000000e-01, -1.00000000e+00,  4.07734292e-02],\n",
    "       [-1.00000000e+00, -5.00000000e-01,  4.06701418e-02]])\n",
    "\n",
    "plotrspaceOx=array([[ 0.00000000e+00,  0.00000000e+00, -2.29491672e-02],\n",
    "       [ 5.00000000e-01,  0.00000000e+00, -1.66019115e-02],\n",
    "       [ 0.00000000e+00,  5.00000000e-01,  1.89127445e-03],\n",
    "       [ 0.00000000e+00,  1.00000000e+00, -3.97902133e-02],\n",
    "       [ 5.00000000e-01,  1.00000000e+00,  1.29030602e-02],\n",
    "       [ 0.00000000e+00,  1.50000000e+00, -6.17385906e-03],\n",
    "       [ 0.00000000e+00,  2.00000000e+00, -9.85661940e-03],\n",
    "       [ 5.00000000e-01,  2.00000000e+00,  1.23427123e-03],\n",
    "       [ 0.00000000e+00,  2.50000000e+00,  8.58367872e-03],\n",
    "       [ 0.00000000e+00, -1.00000000e+00, -3.94760240e-02],\n",
    "       [ 5.00000000e-01, -1.00000000e+00,  1.29030602e-02],\n",
    "       [ 0.00000000e+00, -5.00000000e-01, -1.71791985e-03],\n",
    "       [ 1.00000000e+00,  0.00000000e+00,  1.98560049e-02],\n",
    "       [ 1.50000000e+00,  0.00000000e+00, -1.62334988e-02],\n",
    "       [ 1.00000000e+00,  5.00000000e-01, -1.71791985e-03],\n",
    "       [ 1.00000000e+00,  1.00000000e+00,  4.07734292e-02],\n",
    "       [ 1.50000000e+00,  1.00000000e+00, -4.89298271e-03],\n",
    "       [ 1.00000000e+00,  1.50000000e+00,  7.47374101e-03],\n",
    "       [ 1.00000000e+00,  2.00000000e+00,  1.59487451e-02],\n",
    "       [ 1.50000000e+00,  2.00000000e+00, -3.79194111e-03],\n",
    "       [ 1.00000000e+00,  2.50000000e+00, -6.17385906e-03],\n",
    "       [ 1.00000000e+00, -1.00000000e+00,  4.05668544e-02],\n",
    "       [ 1.50000000e+00, -1.00000000e+00, -4.89298271e-03],\n",
    "       [ 1.00000000e+00, -5.00000000e-01,  7.81336744e-04],\n",
    "       [ 2.00000000e+00,  0.00000000e+00, -4.44777304e-02],\n",
    "       [ 2.50000000e+00,  0.00000000e+00,  2.23199851e-02],\n",
    "       [ 2.00000000e+00,  5.00000000e-01, -1.12421964e-02],\n",
    "       [ 2.00000000e+00,  1.00000000e+00, -8.36034973e-03],\n",
    "       [ 2.50000000e+00,  1.00000000e+00, -2.51781473e-04],\n",
    "       [ 2.00000000e+00,  1.50000000e+00, -1.71791985e-03],\n",
    "       [ 2.00000000e+00,  2.00000000e+00, -8.39448135e-03],\n",
    "       [ 2.50000000e+00,  2.00000000e+00,  1.13678372e-03],\n",
    "       [ 2.00000000e+00,  2.50000000e+00,  1.89127445e-03],\n",
    "       [ 2.00000000e+00, -1.00000000e+00, -8.71730844e-03],\n",
    "       [ 2.50000000e+00, -1.00000000e+00, -2.51781473e-04],\n",
    "       [ 2.00000000e+00, -5.00000000e-01,  9.17908594e-03],\n",
    "       [-1.00000000e+00,  0.00000000e+00,  4.39679744e-02],\n",
    "       [-5.00000000e-01,  0.00000000e+00, -1.62334988e-02],\n",
    "       [-1.00000000e+00,  5.00000000e-01,  9.17908594e-03],\n",
    "       [-1.00000000e+00,  1.00000000e+00,  6.72966771e-03],\n",
    "       [-5.00000000e-01,  1.00000000e+00, -4.89298271e-03],\n",
    "       [-1.00000000e+00,  1.50000000e+00,  7.81336744e-04],\n",
    "       [-1.00000000e+00,  2.00000000e+00,  4.87137807e-03],\n",
    "       [-5.00000000e-01,  2.00000000e+00, -3.79194111e-03],\n",
    "       [-1.00000000e+00,  2.50000000e+00, -1.71791985e-03],\n",
    "       [-1.00000000e+00, -1.00000000e+00,  6.56456557e-03],\n",
    "       [-5.00000000e-01, -1.00000000e+00, -4.89298271e-03],\n",
    "       [-1.00000000e+00, -5.00000000e-01, -1.23521341e-02]])\n",
    "\n",
    "plotrspaceOy=array([[ 0.00000000e+00,  0.00000000e+00, -2.27343001e-02],\n",
    "       [ 5.00000000e-01,  0.00000000e+00,  1.89127445e-03],\n",
    "       [ 0.00000000e+00,  5.00000000e-01,  1.65810710e-02],\n",
    "       [ 0.00000000e+00,  1.00000000e+00,  1.97599455e-02],\n",
    "       [ 5.00000000e-01,  1.00000000e+00, -1.71791985e-03],\n",
    "       [ 0.00000000e+00,  1.50000000e+00,  1.61898956e-02],\n",
    "       [ 0.00000000e+00,  2.00000000e+00, -4.30685178e-02],\n",
    "       [ 5.00000000e-01,  2.00000000e+00,  8.58367872e-03],\n",
    "       [ 0.00000000e+00,  2.50000000e+00, -2.23368804e-02],\n",
    "       [ 0.00000000e+00, -1.00000000e+00,  4.27335611e-02],\n",
    "       [ 5.00000000e-01, -1.00000000e+00, -6.17385906e-03],\n",
    "       [ 0.00000000e+00, -5.00000000e-01,  1.61898956e-02],\n",
    "       [ 1.00000000e+00,  0.00000000e+00, -3.96331187e-02],\n",
    "       [ 1.50000000e+00,  0.00000000e+00,  9.17908594e-03],\n",
    "       [ 1.00000000e+00,  5.00000000e-01, -1.29141188e-02],\n",
    "       [ 1.00000000e+00,  1.00000000e+00,  4.06701418e-02],\n",
    "       [ 1.50000000e+00,  1.00000000e+00, -1.23521341e-02],\n",
    "       [ 1.00000000e+00,  1.50000000e+00,  4.89298271e-03],\n",
    "       [ 1.00000000e+00,  2.00000000e+00, -8.53882909e-03],\n",
    "       [ 1.50000000e+00,  2.00000000e+00, -1.71791985e-03],\n",
    "       [ 1.00000000e+00,  2.50000000e+00,  2.62840063e-04],\n",
    "       [ 1.00000000e+00, -1.00000000e+00,  6.64711664e-03],\n",
    "       [ 1.50000000e+00, -1.00000000e+00,  7.81336744e-04],\n",
    "       [ 1.00000000e+00, -5.00000000e-01,  4.89298271e-03],\n",
    "       [ 2.00000000e+00,  0.00000000e+00, -1.00714865e-02],\n",
    "       [ 2.50000000e+00,  0.00000000e+00, -1.12421964e-02],\n",
    "       [ 2.00000000e+00,  5.00000000e-01, -1.20813237e-03],\n",
    "       [ 2.00000000e+00,  1.00000000e+00,  1.60448045e-02],\n",
    "       [ 2.50000000e+00,  1.00000000e+00,  9.17908594e-03],\n",
    "       [ 2.00000000e+00,  1.50000000e+00,  3.83554425e-03],\n",
    "       [ 2.00000000e+00,  2.00000000e+00, -9.80369400e-03],\n",
    "       [ 2.50000000e+00,  2.00000000e+00,  1.89127445e-03],\n",
    "       [ 2.00000000e+00,  2.50000000e+00, -1.12518682e-03],\n",
    "       [ 2.00000000e+00, -1.00000000e+00,  6.10579134e-03],\n",
    "       [ 2.50000000e+00, -1.00000000e+00, -1.71791985e-03],\n",
    "       [ 2.00000000e+00, -5.00000000e-01,  3.83554425e-03],\n",
    "       [-1.00000000e+00,  0.00000000e+00, -3.96331187e-02],\n",
    "       [-5.00000000e-01,  0.00000000e+00, -1.71791985e-03],\n",
    "       [-1.00000000e+00,  5.00000000e-01, -1.29141188e-02],\n",
    "       [-1.00000000e+00,  1.00000000e+00,  4.06701418e-02],\n",
    "       [-5.00000000e-01,  1.00000000e+00,  7.81336744e-04],\n",
    "       [-1.00000000e+00,  1.50000000e+00,  4.89298271e-03],\n",
    "       [-1.00000000e+00,  2.00000000e+00, -8.53882909e-03],\n",
    "       [-5.00000000e-01,  2.00000000e+00, -6.17385906e-03],\n",
    "       [-1.00000000e+00,  2.50000000e+00,  2.62840063e-04],\n",
    "       [-1.00000000e+00, -1.00000000e+00,  6.64711664e-03],\n",
    "       [-5.00000000e-01, -1.00000000e+00,  7.47374101e-03],\n",
    "       [-1.00000000e+00, -5.00000000e-01,  4.89298271e-03]])\n",
    "\n",
    "nOrb=3\n",
    "Nc=16"
   ]
  },
  {
   "cell_type": "code",
   "execution_count": null,
   "metadata": {},
   "outputs": [],
   "source": []
  },
  {
   "cell_type": "code",
   "execution_count": 6,
   "metadata": {},
   "outputs": [
    {
     "data": {
      "text/plain": [
       "([<matplotlib.axis.YTick at 0x7fdd22bcea20>,\n",
       "  <matplotlib.axis.YTick at 0x7fdd22bce2e8>,\n",
       "  <matplotlib.axis.YTick at 0x7fdd22bc8c50>,\n",
       "  <matplotlib.axis.YTick at 0x7fdd22bf7160>],\n",
       " <a list of 4 Text yticklabel objects>)"
      ]
     },
     "execution_count": 6,
     "metadata": {},
     "output_type": "execute_result"
    },
    {
     "data": {
      "image/png": "[encoded data removed]",
      "text/plain": [
       "<Figure size 432x432 with 1 Axes>"
      ]
     },
     "metadata": {
      "needs_background": "light"
     },
     "output_type": "display_data"
    }
   ],
   "source": [
    "prop_cycle = rcParams['axes.prop_cycle']\n",
    "colors = prop_cycle.by_key()['color']\n",
    "colVec = nOrb*Nc*[colors[0]]\n",
    "for ic in range(nOrb*Nc):\n",
    "    if real(plotrspaceCu[ic,2])*10 > 0.0: colVec[ic] = colors[1]\n",
    "fig, ax = mpl.subplots(figsize=(6,6))\n",
    "ax.scatter(plotrspaceCu[:,0], plotrspaceCu[:,1], s=(abs(real(plotrspaceCu[:,2])))*4000, marker='o',c=colVec)\n",
    "ax.scatter(0, 0, s=80, facecolors='none', edgecolors='k')\n",
    "#ax.scatter(0, 0, 50, marker='o',c=colors[4])\n",
    "#ax.scatter(plotrspace[:,0], plotrspace[:,1], s=-plotrspace[:,2]*5000, marker='o',c='b')\n",
    "ax.set(aspect=1)\n",
    "mpl.xlabel('x',size=18)\n",
    "mpl.ylabel('y',size=18)\n",
    "ax.set_xlim(min(plotrspaceCu[:,0])-0.3,max(plotrspaceCu[:,0]+0.3)); ax.set_ylim(min(plotrspaceCu[:,1])-0.3,max(plotrspaceCu[:,1]+0.3));\n",
    "mpl.xticks(np.arange(min(plotrspaceCu[:,0]+0), max(plotrspaceCu[:,0]+0), 1),size=18)\n",
    "mpl.yticks(np.arange(min(plotrspaceCu[:,1]+0), max(plotrspaceCu[:,1]+0), 1),size=18)\n",
    "#mpl.show()\n",
    "#mpl.savefig('Curspace6by6b10n085.pdf')"
   ]
  },
  {
   "cell_type": "code",
   "execution_count": 7,
   "metadata": {},
   "outputs": [
    {
     "data": {
      "text/plain": [
       "([<matplotlib.axis.YTick at 0x7fdd22cc4b70>,\n",
       "  <matplotlib.axis.YTick at 0x7fdd22cc4438>,\n",
       "  <matplotlib.axis.YTick at 0x7fdd22cbc588>,\n",
       "  <matplotlib.axis.YTick at 0x7fdd22ce8dd8>],\n",
       " <a list of 4 Text yticklabel objects>)"
      ]
     },
     "execution_count": 7,
     "metadata": {},
     "output_type": "execute_result"
    },
    {
     "data": {
      "image/png": "[encoded data removed]",
      "text/plain": [
       "<Figure size 432x432 with 1 Axes>"
      ]
     },
     "metadata": {
      "needs_background": "light"
     },
     "output_type": "display_data"
    }
   ],
   "source": [
    "prop_cycle = rcParams['axes.prop_cycle']\n",
    "colors = prop_cycle.by_key()['color']\n",
    "colVec = nOrb*Nc*[colors[0]]\n",
    "for ic in range(nOrb*Nc):\n",
    "    if real(plotrspaceOx[ic,2])*10 > 0.0: colVec[ic] = colors[1]\n",
    "fig, ax = mpl.subplots(figsize=(6,6))\n",
    "ax.scatter(plotrspaceOx[:,0], plotrspaceOx[:,1], s=(abs(real(plotrspaceOx[:,2])))*4000, marker='o',c=colVec)\n",
    "ax.scatter(0, 0, s=80, facecolors='none', edgecolors='k')\n",
    "ax.set(aspect=1)\n",
    "mpl.xlabel('x',size=18)\n",
    "mpl.ylabel('y',size=18)\n",
    "ax.set_xlim(min(plotrspaceOx[:,0])-0.3,max(plotrspaceOx[:,0]+0.3)); ax.set_ylim(min(plotrspaceOx[:,1])-0.3,max(plotrspaceOx[:,1]+0.3));\n",
    "mpl.xticks(np.arange(min(plotrspaceOx[:,0]), max(plotrspaceOx[:,0]), 1),size=18)\n",
    "mpl.yticks(np.arange(min(plotrspaceOx[:,1]), max(plotrspaceOx[:,1]), 1),size=18)\n",
    "#mpl.show()\n",
    "#mpl.savefig('Oxrspace6by6b10n085.pdf')"
   ]
  },
  {
   "cell_type": "code",
   "execution_count": 8,
   "metadata": {},
   "outputs": [
    {
     "data": {
      "text/plain": [
       "([<matplotlib.axis.YTick at 0x7fdd22ebad30>,\n",
       "  <matplotlib.axis.YTick at 0x7fdd22eba668>,\n",
       "  <matplotlib.axis.YTick at 0x7fdd22ce8e80>,\n",
       "  <matplotlib.axis.YTick at 0x7fdd22f8af60>],\n",
       " <a list of 4 Text yticklabel objects>)"
      ]
     },
     "execution_count": 8,
     "metadata": {},
     "output_type": "execute_result"
    },
    {
     "data": {
      "image/png": "[encoded data removed]",
      "text/plain": [
       "<Figure size 432x432 with 1 Axes>"
      ]
     },
     "metadata": {
      "needs_background": "light"
     },
     "output_type": "display_data"
    }
   ],
   "source": [
    "prop_cycle = rcParams['axes.prop_cycle']\n",
    "colors = prop_cycle.by_key()['color']\n",
    "colVec = nOrb*Nc*[colors[0]]\n",
    "for ic in range(nOrb*Nc):\n",
    "    if real(plotrspaceOy[ic,2])*10 > 0.0: colVec[ic] = colors[1]\n",
    "fig, ax = mpl.subplots(figsize=(6,6))\n",
    "ax.scatter(plotrspaceOy[:,0], plotrspaceOy[:,1], s=(abs(real(plotrspaceOy[:,2])))*4000, marker='o',c=colVec)\n",
    "ax.scatter(0, 0, s=80, facecolors='none', edgecolors='k')\n",
    "ax.set(aspect=1)\n",
    "mpl.xlabel('x',size=18)\n",
    "mpl.ylabel('y',size=18)\n",
    "ax.set_xlim(min(plotrspaceOy[:,0])-0.3,max(plotrspaceOy[:,0]+0.3)); ax.set_ylim(min(plotrspaceOy[:,1])-0.3,max(plotrspaceOy[:,1]+0.3));\n",
    "mpl.xticks(np.arange(min(plotrspaceOy[:,0]), max(plotrspaceOy[:,0]), 1),size=18)\n",
    "mpl.yticks(np.arange(min(plotrspaceOy[:,1]), max(plotrspaceOy[:,1]), 1),size=18)\n",
    "#mpl.show()\n",
    "#mpl.savefig('Oyrspace6by6b10n085.pdf')"
   ]
  },
  {
   "cell_type": "code",
   "execution_count": null,
   "metadata": {},
   "outputs": [],
   "source": []
  },
  {
   "cell_type": "code",
   "execution_count": null,
   "metadata": {},
   "outputs": [],
   "source": []
  },
  {
   "cell_type": "code",
   "execution_count": null,
   "metadata": {},
   "outputs": [],
   "source": []
  },
  {
   "cell_type": "code",
   "execution_count": null,
   "metadata": {},
   "outputs": [],
   "source": []
  }
 ],
 "metadata": {
  "kernelspec": {
   "display_name": "Python 3",
   "language": "python",
   "name": "python3"
  },
  "language_info": {
   "codemirror_mode": {
    "name": "ipython",
    "version": 3
   },
   "file_extension": ".py",
   "mimetype": "text/x-python",
   "name": "python",
   "nbconvert_exporter": "python",
   "pygments_lexer": "ipython3",
   "version": "3.7.3"
  }
 },
 "nbformat": 4,
 "nbformat_minor": 2
}
