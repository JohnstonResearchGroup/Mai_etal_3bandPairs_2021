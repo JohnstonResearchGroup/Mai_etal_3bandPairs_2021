{
 "cells": [
  {
   "cell_type": "code",
   "execution_count": 1,
   "metadata": {},
   "outputs": [],
   "source": [
    "import numpy as np\n",
    "import math\n",
    "from numpy import *\n",
    "import matplotlib.pyplot as mpl\n",
    "import h5py\n",
    "import sys\n",
    "import os\n",
    "from matplotlib.pyplot import *\n",
    "import matplotlib as mpll\n",
    "mpl.style.use([\"ggplot\"])"
   ]
  },
  {
   "cell_type": "code",
   "execution_count": 2,
   "metadata": {},
   "outputs": [],
   "source": [
    "plotrspacetpn4=array([[ 0.00000000e+00,  0.00000000e+00, -2.77221524e-16],\n",
    "       [ 0.00000000e+00,  1.00000000e+00, -3.17350856e-01],\n",
    "       [ 0.00000000e+00,  2.00000000e+00, -1.32190425e-02],\n",
    "       [ 0.00000000e+00,  3.00000000e+00, -1.63413773e-02],\n",
    "       [ 0.00000000e+00, -2.00000000e+00, -1.32190425e-02],\n",
    "       [ 0.00000000e+00, -1.00000000e+00, -3.17350856e-01],\n",
    "       [ 1.00000000e+00,  0.00000000e+00,  3.17350856e-01],\n",
    "       [ 1.00000000e+00,  1.00000000e+00, -2.58640914e-16],\n",
    "       [ 1.00000000e+00,  2.00000000e+00,  1.38577269e-02],\n",
    "       [ 1.00000000e+00,  3.00000000e+00,  6.30453533e-03],\n",
    "       [ 1.00000000e+00, -2.00000000e+00,  1.38577269e-02],\n",
    "       [ 1.00000000e+00, -1.00000000e+00, -2.59874289e-16],\n",
    "       [ 2.00000000e+00,  0.00000000e+00,  1.32190425e-02],\n",
    "       [ 2.00000000e+00,  1.00000000e+00, -1.38577269e-02],\n",
    "       [ 2.00000000e+00,  2.00000000e+00,  1.50753826e-16],\n",
    "       [ 2.00000000e+00,  3.00000000e+00, -4.53675340e-03],\n",
    "       [ 2.00000000e+00, -2.00000000e+00,  1.82480197e-16],\n",
    "       [ 2.00000000e+00, -1.00000000e+00, -1.38577269e-02],\n",
    "       [ 3.00000000e+00,  0.00000000e+00,  1.63413773e-02],\n",
    "       [ 3.00000000e+00,  1.00000000e+00, -6.30453533e-03],\n",
    "       [ 3.00000000e+00,  2.00000000e+00,  4.53675340e-03],\n",
    "       [ 3.00000000e+00,  3.00000000e+00,  9.50962697e-16],\n",
    "       [ 3.00000000e+00, -2.00000000e+00,  4.53675340e-03],\n",
    "       [ 3.00000000e+00, -1.00000000e+00, -6.30453533e-03],\n",
    "       [-2.00000000e+00,  0.00000000e+00,  1.32190425e-02],\n",
    "       [-2.00000000e+00,  1.00000000e+00, -1.38577269e-02],\n",
    "       [-2.00000000e+00,  2.00000000e+00,  1.75541303e-16],\n",
    "       [-2.00000000e+00,  3.00000000e+00, -4.53675340e-03],\n",
    "       [-2.00000000e+00, -2.00000000e+00,  1.54223273e-16],\n",
    "       [-2.00000000e+00, -1.00000000e+00, -1.38577269e-02],\n",
    "       [-1.00000000e+00,  0.00000000e+00,  3.17350856e-01],\n",
    "       [-1.00000000e+00,  1.00000000e+00,  8.88051294e-17],\n",
    "       [-1.00000000e+00,  2.00000000e+00,  1.38577269e-02],\n",
    "       [-1.00000000e+00,  3.00000000e+00,  6.30453533e-03],\n",
    "       [-1.00000000e+00, -2.00000000e+00,  1.38577269e-02],\n",
    "       [-1.00000000e+00, -1.00000000e+00, -2.51702020e-16]])\n",
    "\n",
    "\n",
    "plotrspacetpn3=array([[ 0.00000000e+00,  0.00000000e+00, -3.63986891e-16],\n",
    "       [ 0.00000000e+00,  1.00000000e+00,  3.34769110e-01],\n",
    "       [ 0.00000000e+00,  2.00000000e+00, -2.71537349e-02],\n",
    "       [ 0.00000000e+00,  3.00000000e+00,  1.06732074e-02],\n",
    "       [ 0.00000000e+00, -2.00000000e+00, -2.71537349e-02],\n",
    "       [ 0.00000000e+00, -1.00000000e+00,  3.34769110e-01],\n",
    "       [ 1.00000000e+00,  0.00000000e+00, -3.34769110e-01],\n",
    "       [ 1.00000000e+00,  1.00000000e+00, -1.78829038e-16],\n",
    "       [ 1.00000000e+00,  2.00000000e+00, -8.20537963e-03],\n",
    "       [ 1.00000000e+00,  3.00000000e+00,  1.94579259e-03],\n",
    "       [ 1.00000000e+00, -2.00000000e+00, -8.20537963e-03],\n",
    "       [ 1.00000000e+00, -1.00000000e+00, -2.22463662e-17],\n",
    "       [ 2.00000000e+00,  0.00000000e+00,  2.71537349e-02],\n",
    "       [ 2.00000000e+00,  1.00000000e+00,  8.20537963e-03],\n",
    "       [ 2.00000000e+00,  2.00000000e+00,  4.73426989e-16],\n",
    "       [ 2.00000000e+00,  3.00000000e+00,  2.14230772e-03],\n",
    "       [ 2.00000000e+00, -2.00000000e+00,  3.57658075e-16],\n",
    "       [ 2.00000000e+00, -1.00000000e+00,  8.20537963e-03],\n",
    "       [ 3.00000000e+00,  0.00000000e+00, -1.06732074e-02],\n",
    "       [ 3.00000000e+00,  1.00000000e+00, -1.94579259e-03],\n",
    "       [ 3.00000000e+00,  2.00000000e+00, -2.14230772e-03],\n",
    "       [ 3.00000000e+00,  3.00000000e+00, -1.33196259e-15],\n",
    "       [ 3.00000000e+00, -2.00000000e+00, -2.14230772e-03],\n",
    "       [ 3.00000000e+00, -1.00000000e+00, -1.94579259e-03],\n",
    "       [-2.00000000e+00,  0.00000000e+00,  2.71537349e-02],\n",
    "       [-2.00000000e+00,  1.00000000e+00,  8.20537963e-03],\n",
    "       [-2.00000000e+00,  2.00000000e+00,  3.47249734e-16],\n",
    "       [-2.00000000e+00,  3.00000000e+00,  2.14230772e-03],\n",
    "       [-2.00000000e+00, -2.00000000e+00,  4.69957542e-16],\n",
    "       [-2.00000000e+00, -1.00000000e+00,  8.20537963e-03],\n",
    "       [-1.00000000e+00,  0.00000000e+00, -3.34769110e-01],\n",
    "       [-1.00000000e+00,  1.00000000e+00, -3.81334126e-16],\n",
    "       [-1.00000000e+00,  2.00000000e+00, -8.20537963e-03],\n",
    "       [-1.00000000e+00,  3.00000000e+00,  1.94579259e-03],\n",
    "       [-1.00000000e+00, -2.00000000e+00, -8.20537963e-03],\n",
    "       [-1.00000000e+00, -1.00000000e+00, -1.71890144e-16]])\n",
    "\n",
    "\n",
    "plotrspacetpn2=array([[ 0.00000000e+00,  0.00000000e+00,  2.34323771e-16],\n",
    "       [ 0.00000000e+00,  1.00000000e+00,  3.36404239e-01],\n",
    "       [ 0.00000000e+00,  2.00000000e+00, -3.76770493e-02],\n",
    "       [ 0.00000000e+00,  3.00000000e+00,  2.69297994e-03],\n",
    "       [ 0.00000000e+00, -2.00000000e+00, -3.76770493e-02],\n",
    "       [ 0.00000000e+00, -1.00000000e+00,  3.36404239e-01],\n",
    "       [ 1.00000000e+00,  0.00000000e+00, -3.36404239e-01],\n",
    "       [ 1.00000000e+00,  1.00000000e+00,  1.55189700e-16],\n",
    "       [ 1.00000000e+00,  2.00000000e+00, -1.02180244e-02],\n",
    "       [ 1.00000000e+00,  3.00000000e+00,  7.67323434e-03],\n",
    "       [ 1.00000000e+00, -2.00000000e+00, -1.02180244e-02],\n",
    "       [ 1.00000000e+00, -1.00000000e+00,  2.20445984e-16],\n",
    "       [ 2.00000000e+00,  0.00000000e+00,  3.76770493e-02],\n",
    "       [ 2.00000000e+00,  1.00000000e+00,  1.02180244e-02],\n",
    "       [ 2.00000000e+00,  2.00000000e+00,  1.44781359e-16],\n",
    "       [ 2.00000000e+00,  3.00000000e+00, -2.36358147e-03],\n",
    "       [ 2.00000000e+00, -2.00000000e+00,  1.75343173e-16],\n",
    "       [ 2.00000000e+00, -1.00000000e+00,  1.02180244e-02],\n",
    "       [ 3.00000000e+00,  0.00000000e+00, -2.69297994e-03],\n",
    "       [ 3.00000000e+00,  1.00000000e+00, -7.67323434e-03],\n",
    "       [ 3.00000000e+00,  2.00000000e+00,  2.36358147e-03],\n",
    "       [ 3.00000000e+00,  3.00000000e+00,  8.65763117e-16],\n",
    "       [ 3.00000000e+00, -2.00000000e+00,  2.36358147e-03],\n",
    "       [ 3.00000000e+00, -1.00000000e+00, -7.67323434e-03],\n",
    "       [-2.00000000e+00,  0.00000000e+00,  3.76770493e-02],\n",
    "       [-2.00000000e+00,  1.00000000e+00,  1.02180244e-02],\n",
    "       [-2.00000000e+00,  2.00000000e+00,  1.63200109e-16],\n",
    "       [-2.00000000e+00,  3.00000000e+00, -2.36358147e-03],\n",
    "       [-2.00000000e+00, -2.00000000e+00,  1.48250806e-16],\n",
    "       [-2.00000000e+00, -1.00000000e+00,  1.02180244e-02],\n",
    "       [-1.00000000e+00,  0.00000000e+00, -3.36404239e-01],\n",
    "       [-1.00000000e+00,  1.00000000e+00, -1.64662628e-16],\n",
    "       [-1.00000000e+00,  2.00000000e+00, -1.02180244e-02],\n",
    "       [-1.00000000e+00,  3.00000000e+00,  7.67323434e-03],\n",
    "       [-1.00000000e+00, -2.00000000e+00, -1.02180244e-02],\n",
    "       [-1.00000000e+00, -1.00000000e+00,  1.55189700e-16]])\n",
    "\n",
    "\n",
    "\n",
    "plotrspacetp0=array([[ 0.00000000e+00,  0.00000000e+00, -1.03270096e-16],\n",
    "       [ 0.00000000e+00,  1.00000000e+00,  3.31127726e-01],\n",
    "       [ 0.00000000e+00,  2.00000000e+00, -3.93370052e-02],\n",
    "       [ 0.00000000e+00,  3.00000000e+00,  1.62852536e-03],\n",
    "       [ 0.00000000e+00, -2.00000000e+00, -3.93370052e-02],\n",
    "       [ 0.00000000e+00, -1.00000000e+00,  3.31127726e-01],\n",
    "       [ 1.00000000e+00,  0.00000000e+00, -3.31127726e-01],\n",
    "       [ 1.00000000e+00,  1.00000000e+00, -3.54290245e-16],\n",
    "       [ 1.00000000e+00,  2.00000000e+00, -4.85153065e-03],\n",
    "       [ 1.00000000e+00,  3.00000000e+00,  1.00080028e-02],\n",
    "       [ 1.00000000e+00, -2.00000000e+00, -4.85153065e-03],\n",
    "       [ 1.00000000e+00, -1.00000000e+00, -4.94936687e-17],\n",
    "       [ 2.00000000e+00,  0.00000000e+00,  3.93370052e-02],\n",
    "       [ 2.00000000e+00,  1.00000000e+00,  4.85153065e-03],\n",
    "       [ 2.00000000e+00,  2.00000000e+00,  3.77572604e-17],\n",
    "       [ 2.00000000e+00,  3.00000000e+00, -3.68746836e-04],\n",
    "       [ 2.00000000e+00, -2.00000000e+00, -1.81332653e-16],\n",
    "       [ 2.00000000e+00, -1.00000000e+00,  4.85153065e-03],\n",
    "       [ 3.00000000e+00,  0.00000000e+00, -1.62852536e-03],\n",
    "       [ 3.00000000e+00,  1.00000000e+00, -1.00080028e-02],\n",
    "       [ 3.00000000e+00,  2.00000000e+00,  3.68746836e-04],\n",
    "       [ 3.00000000e+00,  3.00000000e+00,  3.82452477e-16],\n",
    "       [ 3.00000000e+00, -2.00000000e+00,  3.68746836e-04],\n",
    "       [ 3.00000000e+00, -1.00000000e+00, -1.00080028e-02],\n",
    "       [-2.00000000e+00,  0.00000000e+00,  3.93370052e-02],\n",
    "       [-2.00000000e+00,  1.00000000e+00,  4.85153065e-03],\n",
    "       [-2.00000000e+00,  2.00000000e+00, -1.96945164e-16],\n",
    "       [-2.00000000e+00,  3.00000000e+00, -3.68746836e-04],\n",
    "       [-2.00000000e+00, -2.00000000e+00,  3.08183665e-17],\n",
    "       [-2.00000000e+00, -1.00000000e+00,  4.85153065e-03],\n",
    "       [-1.00000000e+00,  0.00000000e+00, -3.31127726e-01],\n",
    "       [-1.00000000e+00,  1.00000000e+00, -4.20724493e-16],\n",
    "       [-1.00000000e+00,  2.00000000e+00, -4.85153065e-03],\n",
    "       [-1.00000000e+00,  3.00000000e+00,  1.00080028e-02],\n",
    "       [-1.00000000e+00, -2.00000000e+00, -4.85153065e-03],\n",
    "       [-1.00000000e+00, -1.00000000e+00, -3.26534670e-16]])\n",
    "\n",
    "\n",
    "Nc=36"
   ]
  },
  {
   "cell_type": "code",
   "execution_count": null,
   "metadata": {},
   "outputs": [],
   "source": []
  },
  {
   "cell_type": "code",
   "execution_count": 3,
   "metadata": {},
   "outputs": [
    {
     "data": {
      "text/plain": [
       "([<matplotlib.axis.YTick at 0x7fc1312c81d0>,\n",
       "  <matplotlib.axis.YTick at 0x7fc1312f1b00>,\n",
       "  <matplotlib.axis.YTick at 0x7fc131246400>,\n",
       "  <matplotlib.axis.YTick at 0x7fc131318a90>,\n",
       "  <matplotlib.axis.YTick at 0x7fc131318be0>,\n",
       "  <matplotlib.axis.YTick at 0x7fc131320550>],\n",
       " <a list of 6 Text yticklabel objects>)"
      ]
     },
     "execution_count": 3,
     "metadata": {},
     "output_type": "execute_result"
    },
    {
     "data": {
      "image/png": "[encoded data removed]",
      "text/plain": [
       "<Figure size 432x432 with 1 Axes>"
      ]
     },
     "metadata": {
      "needs_background": "light"
     },
     "output_type": "display_data"
    }
   ],
   "source": [
    "# t' = -0.4\n",
    "prop_cycle = rcParams['axes.prop_cycle']\n",
    "colors = prop_cycle.by_key()['color']\n",
    "colVec = Nc*[colors[0]]\n",
    "for ic in range(Nc):\n",
    "    if real(plotrspacetpn4[ic,2])*10 < 0.0: colVec[ic] = colors[1]\n",
    "fig, ax = mpl.subplots(figsize=(6,6))\n",
    "ax.scatter(plotrspacetpn4[:,0], plotrspacetpn4[:,1], s=(abs(real(plotrspacetpn4[:,2])))*4000, marker='o',c=colVec)\n",
    "ax.scatter(0, 0, s=80, facecolors='none', edgecolors='k')\n",
    "#ax.scatter(0, 0, 50, marker='o',c=colors[4])\n",
    "ax.set(aspect=1)\n",
    "mpl.xlabel('x',size=18)\n",
    "mpl.ylabel('y',size=18)\n",
    "ax.set_xlim(min(plotrspacetpn4[:,0])-0.3,max(plotrspacetpn4[:,0]+0.8)); ax.set_ylim(min(plotrspacetpn4[:,1])-0.3,max(plotrspacetpn4[:,1]+0.8));\n",
    "mpl.xticks(np.arange(min(plotrspacetpn4[:,0]+0), max(plotrspacetpn4[:,0]+0.5), 1),size=18)\n",
    "mpl.yticks(np.arange(min(plotrspacetpn4[:,1]+0), max(plotrspacetpn4[:,1]+0.5), 1),size=18)\n",
    "#mpl.show()\n",
    "#mpl.savefig('sbrspace6by6tpn4n085U6b5.pdf')\n"
   ]
  },
  {
   "cell_type": "code",
   "execution_count": 5,
   "metadata": {},
   "outputs": [
    {
     "data": {
      "text/plain": [
       "([<matplotlib.axis.YTick at 0x7fc1313e5160>,\n",
       "  <matplotlib.axis.YTick at 0x7fc1313dc9e8>,\n",
       "  <matplotlib.axis.YTick at 0x7fc1313d3940>,\n",
       "  <matplotlib.axis.YTick at 0x7fc1314099b0>,\n",
       "  <matplotlib.axis.YTick at 0x7fc131409ef0>,\n",
       "  <matplotlib.axis.YTick at 0x7fc131411470>],\n",
       " <a list of 6 Text yticklabel objects>)"
      ]
     },
     "execution_count": 5,
     "metadata": {},
     "output_type": "execute_result"
    },
    {
     "data": {
      "image/png": "[encoded data removed]",
      "text/plain": [
       "<Figure size 432x432 with 1 Axes>"
      ]
     },
     "metadata": {
      "needs_background": "light"
     },
     "output_type": "display_data"
    }
   ],
   "source": [
    "# t' = -0.3\n",
    "prop_cycle = rcParams['axes.prop_cycle']\n",
    "colors = prop_cycle.by_key()['color']\n",
    "colVec = Nc*[colors[0]]\n",
    "for ic in range(Nc):\n",
    "    if real(plotrspacetpn3[ic,2])*10 > 0.0: colVec[ic] = colors[1]\n",
    "fig, ax = mpl.subplots(figsize=(6,6))\n",
    "ax.scatter(plotrspacetpn3[:,0], plotrspacetpn3[:,1], s=(abs(real(plotrspacetpn3[:,2])))*4000, marker='o',c=colVec)\n",
    "ax.scatter(0, 0, s=80, facecolors='none', edgecolors='k')\n",
    "#ax.scatter(0, 0, 50, marker='o',c=colors[4])\n",
    "ax.set(aspect=1)\n",
    "mpl.xlabel('x',size=18)\n",
    "mpl.ylabel('y',size=18)\n",
    "ax.set_xlim(min(plotrspacetpn3[:,0])-0.3,max(plotrspacetpn3[:,0]+0.8)); ax.set_ylim(min(plotrspacetpn3[:,1])-0.3,max(plotrspacetpn3[:,1]+0.8));\n",
    "mpl.xticks(np.arange(min(plotrspacetpn3[:,0]+0), max(plotrspacetpn3[:,0]+0.5), 1),size=18)\n",
    "mpl.yticks(np.arange(min(plotrspacetpn3[:,1]+0), max(plotrspacetpn3[:,1]+0.5), 1),size=18)\n",
    "#mpl.show()\n",
    "#mpl.savefig('sbrspace6by6tpn4n085U6b5.pdf')\n"
   ]
  },
  {
   "cell_type": "code",
   "execution_count": 6,
   "metadata": {},
   "outputs": [
    {
     "data": {
      "text/plain": [
       "([<matplotlib.axis.YTick at 0x7fc13143a908>,\n",
       "  <matplotlib.axis.YTick at 0x7fc13143a208>,\n",
       "  <matplotlib.axis.YTick at 0x7fc131438e48>,\n",
       "  <matplotlib.axis.YTick at 0x7fc1314fb2b0>,\n",
       "  <matplotlib.axis.YTick at 0x7fc1314fb7f0>,\n",
       "  <matplotlib.axis.YTick at 0x7fc1314fbd30>],\n",
       " <a list of 6 Text yticklabel objects>)"
      ]
     },
     "execution_count": 6,
     "metadata": {},
     "output_type": "execute_result"
    },
    {
     "data": {
      "image/png": "[encoded data removed]",
      "text/plain": [
       "<Figure size 432x432 with 1 Axes>"
      ]
     },
     "metadata": {
      "needs_background": "light"
     },
     "output_type": "display_data"
    }
   ],
   "source": [
    "# t' = -0.2\n",
    "prop_cycle = rcParams['axes.prop_cycle']\n",
    "colors = prop_cycle.by_key()['color']\n",
    "colVec = Nc*[colors[0]]\n",
    "for ic in range(Nc):\n",
    "    if real(plotrspacetpn2[ic,2])*10 > 0.0: colVec[ic] = colors[1]\n",
    "fig, ax = mpl.subplots(figsize=(6,6))\n",
    "ax.scatter(plotrspacetpn2[:,0], plotrspacetpn2[:,1], s=(abs(real(plotrspacetpn2[:,2])))*4000, marker='o',c=colVec)\n",
    "ax.scatter(0, 0, s=80, facecolors='none', edgecolors='k')\n",
    "#ax.scatter(0, 0, 50, marker='o',c=colors[4])\n",
    "ax.set(aspect=1)\n",
    "mpl.xlabel('x',size=18)\n",
    "mpl.ylabel('y',size=18)\n",
    "ax.set_xlim(min(plotrspacetpn2[:,0])-0.3,max(plotrspacetpn2[:,0]+0.8)); ax.set_ylim(min(plotrspacetpn2[:,1])-0.3,max(plotrspacetpn2[:,1]+0.8));\n",
    "mpl.xticks(np.arange(min(plotrspacetpn2[:,0]+0), max(plotrspacetpn2[:,0]+0.5), 1),size=18)\n",
    "mpl.yticks(np.arange(min(plotrspacetpn2[:,1]+0), max(plotrspacetpn2[:,1]+0.5), 1),size=18)\n",
    "#mpl.show()\n",
    "#mpl.savefig('sbrspace6by6tpn4n085U6b5.pdf')\n"
   ]
  },
  {
   "cell_type": "code",
   "execution_count": 7,
   "metadata": {},
   "outputs": [
    {
     "data": {
      "text/plain": [
       "([<matplotlib.axis.YTick at 0x7fc1315c51d0>,\n",
       "  <matplotlib.axis.YTick at 0x7fc1315beac8>,\n",
       "  <matplotlib.axis.YTick at 0x7fc1315b8b00>,\n",
       "  <matplotlib.axis.YTick at 0x7fc1315e7a20>,\n",
       "  <matplotlib.axis.YTick at 0x7fc1315e7f60>,\n",
       "  <matplotlib.axis.YTick at 0x7fc1315ef4e0>],\n",
       " <a list of 6 Text yticklabel objects>)"
      ]
     },
     "execution_count": 7,
     "metadata": {},
     "output_type": "execute_result"
    },
    {
     "data": {
      "image/png": "[encoded data removed]",
      "text/plain": [
       "<Figure size 432x432 with 1 Axes>"
      ]
     },
     "metadata": {
      "needs_background": "light"
     },
     "output_type": "display_data"
    }
   ],
   "source": [
    "# t' = 0\n",
    "prop_cycle = rcParams['axes.prop_cycle']\n",
    "colors = prop_cycle.by_key()['color']\n",
    "colVec = Nc*[colors[0]]\n",
    "for ic in range(Nc):\n",
    "    if real(plotrspacetp0[ic,2])*10 > 0.0: colVec[ic] = colors[1]\n",
    "fig, ax = mpl.subplots(figsize=(6,6))\n",
    "ax.scatter(plotrspacetp0[:,0], plotrspacetp0[:,1], s=(abs(real(plotrspacetp0[:,2])))*4000, marker='o',c=colVec)\n",
    "ax.scatter(0, 0, s=80, facecolors='none', edgecolors='k')\n",
    "#ax.scatter(0, 0, 50, marker='o',c=colors[4])\n",
    "ax.set(aspect=1)\n",
    "mpl.xlabel('x',size=18)\n",
    "mpl.ylabel('y',size=18)\n",
    "ax.set_xlim(min(plotrspacetp0[:,0])-0.3,max(plotrspacetp0[:,0]+0.8)); ax.set_ylim(min(plotrspacetp0[:,1])-0.3,max(plotrspacetp0[:,1]+0.8));\n",
    "mpl.xticks(np.arange(min(plotrspacetp0[:,0]+0), max(plotrspacetp0[:,0]+0.5), 1),size=18)\n",
    "mpl.yticks(np.arange(min(plotrspacetp0[:,1]+0), max(plotrspacetp0[:,1]+0.5), 1),size=18)\n",
    "#mpl.show()\n",
    "#mpl.savefig('sbrspace6by6tpn4n085U6b5.pdf')\n"
   ]
  },
  {
   "cell_type": "code",
   "execution_count": null,
   "metadata": {},
   "outputs": [],
   "source": []
  },
  {
   "cell_type": "code",
   "execution_count": null,
   "metadata": {},
   "outputs": [],
   "source": []
  },
  {
   "cell_type": "code",
   "execution_count": null,
   "metadata": {},
   "outputs": [],
   "source": []
  }
 ],
 "metadata": {
  "kernelspec": {
   "display_name": "Python 3",
   "language": "python",
   "name": "python3"
  },
  "language_info": {
   "codemirror_mode": {
    "name": "ipython",
    "version": 3
   },
   "file_extension": ".py",
   "mimetype": "text/x-python",
   "name": "python",
   "nbconvert_exporter": "python",
   "pygments_lexer": "ipython3",
   "version": "3.7.3"
  }
 },
 "nbformat": 4,
 "nbformat_minor": 2
}
